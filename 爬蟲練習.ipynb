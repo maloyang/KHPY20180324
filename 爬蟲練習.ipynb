{
 "cells": [
  {
   "cell_type": "markdown",
   "metadata": {},
   "source": [
    "# 爬蟲練習"
   ]
  },
  {
   "cell_type": "markdown",
   "metadata": {},
   "source": [
    "## 複習一下"
   ]
  },
  {
   "cell_type": "markdown",
   "metadata": {},
   "source": [
    "### requests 的使用\n",
    "\n",
    "* 使用 get 方法讀取網站原始碼\n",
    "\n",
    "```python\n",
    "r = requests.get(url)\n",
    "```\n",
    "\n",
    "* 使用 post 方法讀取網站原始碼\n",
    "\n",
    "```python\n",
    "r = requests.post(url, data=data)\n",
    "```\n",
    "\n",
    "參考連結：[Python Requests.Quickstart](http://docs.python-requests.org/en/master/user/quickstart/)"
   ]
  },
  {
   "cell_type": "markdown",
   "metadata": {},
   "source": [
    "### 使用 beautifulsoup 剖析 HTML 程式碼\n",
    "\n",
    "```python\n",
    "from bs4 import BeautifulSoup\n",
    "soup = BeautifulSoup(r.text, 'lxml')\n",
    "soup.select('div p')[0].text\n",
    "```\n",
    "\n",
    "CSS Selector 的使用請參考：\n",
    "\n",
    "* [CSS Selector Reference](https://www.w3schools.com/cssref/css_selectors.asp)\n",
    "* [CSS Attribute Selector](https://www.w3schools.com/css/css_attribute_selectors.asp)\n",
    "\n",
    "BeautifulSoup 的其他使用方式，請參考：\n",
    "\n",
    "* [Beautiful Soup 4.2.0 文档](https://www.crummy.com/software/BeautifulSoup/bs4/doc/index.zh.html)"
   ]
  },
  {
   "cell_type": "markdown",
   "metadata": {},
   "source": [
    "### 剖析 json 檔\n",
    "\n",
    "* 使用 requests 抓取 json 檔，可以在後面加上 .json() 直接剖析 json 檔案。\n",
    "* 如果是檔案或字串，可以使用 json 模組來剖析。"
   ]
  },
  {
   "cell_type": "markdown",
   "metadata": {},
   "source": [
    "## 可以練習抓資料的網址：\n",
    "\n",
    "* [政府開放資料平台](https://data.gov.tw/)\n",
    "* [鉅亨網](https://www.cnyes.com/)"
   ]
  },
  {
   "cell_type": "markdown",
   "metadata": {},
   "source": [
    "***"
   ]
  },
  {
   "cell_type": "code",
   "execution_count": 1,
   "metadata": {
    "collapsed": true
   },
   "outputs": [],
   "source": [
    "import requests\n",
    "from bs4 import BeautifulSoup"
   ]
  },
  {
   "cell_type": "markdown",
   "metadata": {},
   "source": [
    "### 範例一\n",
    "\n",
    "* 請抓取底下 url 的網站原始碼"
   ]
  },
  {
   "cell_type": "code",
   "execution_count": null,
   "metadata": {
    "collapsed": true
   },
   "outputs": [],
   "source": [
    "url = \"http://example.com\""
   ]
  },
  {
   "cell_type": "code",
   "execution_count": null,
   "metadata": {
    "collapsed": true
   },
   "outputs": [],
   "source": [
    "r = requests.get(url)"
   ]
  },
  {
   "cell_type": "code",
   "execution_count": null,
   "metadata": {
    "collapsed": true
   },
   "outputs": [],
   "source": [
    "r.text"
   ]
  },
  {
   "cell_type": "markdown",
   "metadata": {},
   "source": [
    "### 範例二\n",
    "\n",
    "* 讀取底下 url 裡面的 json 檔\n",
    "\n",
    "參考：[https://bit.ly/2FZbAcz](https://bit.ly/2FZbAcz)"
   ]
  },
  {
   "cell_type": "code",
   "execution_count": null,
   "metadata": {
    "collapsed": true
   },
   "outputs": [],
   "source": [
    "url = \"http://opendata.khcc.gov.tw/public/OD_ksml_info.ashx\""
   ]
  },
  {
   "cell_type": "code",
   "execution_count": null,
   "metadata": {
    "collapsed": true
   },
   "outputs": [],
   "source": [
    "data = requests.get(url).json()"
   ]
  },
  {
   "cell_type": "code",
   "execution_count": null,
   "metadata": {
    "collapsed": true
   },
   "outputs": [],
   "source": [
    "data[0]"
   ]
  },
  {
   "cell_type": "code",
   "execution_count": null,
   "metadata": {
    "collapsed": true
   },
   "outputs": [],
   "source": [
    "for x in data[:5]:\n",
    "    print(x['Title'], \"==>\", x['OpenTime'])"
   ]
  },
  {
   "cell_type": "markdown",
   "metadata": {},
   "source": [
    "### 範例三\n",
    "\n",
    "* 使用 requests + BequtifulSoup 抓取底下 url 的新聞文章。\n",
    "* url = \"[https://news.cnyes.com/news/id/3949102](https://news.cnyes.com/news/id/3949102)\""
   ]
  },
  {
   "cell_type": "code",
   "execution_count": null,
   "metadata": {
    "collapsed": true
   },
   "outputs": [],
   "source": [
    "url = 'https://news.cnyes.com/news/id/3949102'"
   ]
  },
  {
   "cell_type": "code",
   "execution_count": null,
   "metadata": {
    "collapsed": true
   },
   "outputs": [],
   "source": [
    "r = requests.get(url)\n",
    "soup = BeautifulSoup(r.text, 'lxml')\n",
    "soup.select('div[itemprop=\"articleBody\"]')[0].text"
   ]
  },
  {
   "cell_type": "markdown",
   "metadata": {},
   "source": [
    "***"
   ]
  },
  {
   "cell_type": "markdown",
   "metadata": {},
   "source": [
    "## 請抓取底下連結的新聞文章\n",
    "\n",
    "url = '[https://tw.finance.appledaily.com/realtime/20180121/1283033/](https://tw.finance.appledaily.com/realtime/20180121/1283033/)'"
   ]
  },
  {
   "cell_type": "code",
   "execution_count": null,
   "metadata": {
    "collapsed": true
   },
   "outputs": [],
   "source": [
    "url = 'https://tw.finance.appledaily.com/realtime/20180121/1283033/'"
   ]
  },
  {
   "cell_type": "markdown",
   "metadata": {},
   "source": [
    "## 請列出底下連結的新聞標題\n",
    "\n",
    "url = \"[http://news.ltn.com.tw/list/breakingnews/business](http://news.ltn.com.tw/list/breakingnews/business)\""
   ]
  },
  {
   "cell_type": "code",
   "execution_count": 2,
   "metadata": {
    "collapsed": true
   },
   "outputs": [],
   "source": [
    "url = \"http://news.ltn.com.tw/list/breakingnews/business\""
   ]
  },
  {
   "cell_type": "code",
   "execution_count": 3,
   "metadata": {
    "collapsed": true
   },
   "outputs": [],
   "source": [
    "r = requests.get(url)\n",
    "soup = BeautifulSoup(r.text, 'lxml')"
   ]
  },
  {
   "cell_type": "code",
   "execution_count": 10,
   "metadata": {},
   "outputs": [
    {
     "data": {
      "text/plain": [
       "[<p>又有建案法拍！樹林透天整批31戶 一拍底價6.49億\t\t\t\t\t\t\t\t\t\t\t\t\t</p>,\n",
       " <p>投資如興虧2.5億元？ 國發基金：長期仍受惠\t\t\t\t\t\t\t\t\t\t\t\t\t</p>,\n",
       " <p>不滿父親與妹亂倫產子 特斯拉CEO與爸反目\t\t\t\t\t\t\t\t\t\t\t\t\t</p>,\n",
       " <p>金融聯合都更服務公司 林旺根出任董座\t\t\t\t\t\t\t\t\t\t\t\t\t</p>,\n",
       " <p>兆豐銀被詐貸案 兆豐銀聲明駁斥：保留法律追訴權\t\t\t\t\t\t\t\t\t\t\t\t\t</p>,\n",
       " <p>3/24重要財經新聞一覽\t\t\t\t\t\t\t\t\t\t\t\t\t</p>,\n",
       " <p>資金尋求避險 美元兌日圓貶至2016年大選後低點\t\t\t\t\t\t\t\t\t\t\t\t\t</p>,\n",
       " <p>兩岸最低薪資比一比 台北22k是上海11k的2倍\t\t\t\t\t\t\t\t\t\t\t\t\t</p>,\n",
       " <p>市場憂貿易戰湧向避險資產 黃金升至1個月來高位\t\t\t\t\t\t\t\t\t\t\t\t\t</p>,\n",
       " <p>美301制裁 鎖定中國10大戰略產業\t\t\t\t\t\t\t\t\t\t\t\t\t</p>,\n",
       " <p>美中貿易戰日本參一腳！將對中、韓部分鋼鐵產品徵反傾銷稅\t\t\t\t\t\t\t\t\t\t\t\t\t</p>,\n",
       " <p>市場擔心美國制裁伊朗 國際油價大漲\t\t\t\t\t\t\t\t\t\t\t\t\t</p>,\n",
       " <p>擔憂美中貿易戰 美股創27個月來最大單週跌幅\t\t\t\t\t\t\t\t\t\t\t\t\t</p>,\n",
       " <p>兆豐氣炸否認！被傳詐貸相關人員移送法辦\t\t\t\t\t\t\t\t\t\t\t\t\t</p>,\n",
       " <p>憂心貿易戰 美股重挫\t\t\t\t\t\t\t\t\t\t\t\t\t</p>,\n",
       " <p>貿易戰疑慮引發賣壓 歐股挫\t\t\t\t\t\t\t\t\t\t\t\t\t</p>,\n",
       " <p>大同2017年轉虧為盈 EPS0.03元\t\t\t\t\t\t\t\t\t\t\t\t\t</p>,\n",
       " <p>中國竊取智慧財產問題 美國正式向WTO投訴\t\t\t\t\t\t\t\t\t\t\t\t\t</p>,\n",
       " <p>中華電信擬處分精測1500張\t\t\t\t\t\t\t\t\t\t\t\t\t</p>,\n",
       " <p>利機去年每股盈餘1.22元 擬配發1元現金股利\t\t\t\t\t\t\t\t\t\t\t\t\t</p>]"
      ]
     },
     "execution_count": 10,
     "metadata": {},
     "output_type": "execute_result"
    }
   ],
   "source": [
    "soup.select('div.whitecon.boxTitle > ul p')"
   ]
  },
  {
   "cell_type": "code",
   "execution_count": 16,
   "metadata": {},
   "outputs": [
    {
     "data": {
      "text/plain": [
       "['又有建案法拍！樹林透天整批31戶 一拍底價6.49億',\n",
       " '投資如興虧2.5億元？ 國發基金：長期仍受惠',\n",
       " '不滿父親與妹亂倫產子 特斯拉CEO與爸反目',\n",
       " '金融聯合都更服務公司 林旺根出任董座',\n",
       " '兆豐銀被詐貸案 兆豐銀聲明駁斥：保留法律追訴權',\n",
       " '3/24重要財經新聞一覽',\n",
       " '資金尋求避險 美元兌日圓貶至2016年大選後低點',\n",
       " '兩岸最低薪資比一比 台北22k是上海11k的2倍',\n",
       " '市場憂貿易戰湧向避險資產 黃金升至1個月來高位',\n",
       " '美301制裁 鎖定中國10大戰略產業',\n",
       " '美中貿易戰日本參一腳！將對中、韓部分鋼鐵產品徵反傾銷稅',\n",
       " '市場擔心美國制裁伊朗 國際油價大漲',\n",
       " '擔憂美中貿易戰 美股創27個月來最大單週跌幅',\n",
       " '兆豐氣炸否認！被傳詐貸相關人員移送法辦',\n",
       " '憂心貿易戰 美股重挫',\n",
       " '貿易戰疑慮引發賣壓 歐股挫',\n",
       " '大同2017年轉虧為盈 EPS0.03元',\n",
       " '中國竊取智慧財產問題 美國正式向WTO投訴',\n",
       " '中華電信擬處分精測1500張',\n",
       " '利機去年每股盈餘1.22元 擬配發1元現金股利']"
      ]
     },
     "execution_count": 16,
     "metadata": {},
     "output_type": "execute_result"
    }
   ],
   "source": [
    "l = soup.select('div.whitecon.boxTitle > ul p')\n",
    "my_news = list()\n",
    "for item in l:\n",
    "    #print(item.text)\n",
    "    my_news.append(item.text.strip())\n",
    "my_news"
   ]
  },
  {
   "cell_type": "markdown",
   "metadata": {},
   "source": [
    "## Demo1: 爬網站照片 [食譜]\n",
    "- link: http://www.wech.com.tw/breads/910/23.jpg\n"
   ]
  },
  {
   "cell_type": "code",
   "execution_count": 4,
   "metadata": {
    "collapsed": true
   },
   "outputs": [],
   "source": [
    "import requests\n",
    "\n",
    "url = \"http://www.wech.com.tw/breads/910/23.jpg\"\n",
    "r = requests.get(url)\n"
   ]
  },
  {
   "cell_type": "code",
   "execution_count": 6,
   "metadata": {},
   "outputs": [
    {
     "data": {
      "text/plain": [
       "200"
      ]
     },
     "execution_count": 6,
     "metadata": {},
     "output_type": "execute_result"
    }
   ],
   "source": [
    "requests.codes.ok"
   ]
  },
  {
   "cell_type": "code",
   "execution_count": 10,
   "metadata": {},
   "outputs": [
    {
     "name": "stdout",
     "output_type": "stream",
     "text": [
      "finish to save a image\n"
     ]
    }
   ],
   "source": [
    "if r.status_code == 200:\n",
    "    with open('im.jpg', 'wb') as f:\n",
    "        f.write(r.content)\n",
    "    print('finish to save a image')\n",
    "else:\n",
    "    print('bad return code')\n",
    "    "
   ]
  },
  {
   "cell_type": "markdown",
   "metadata": {},
   "source": [
    "## 基本準備工作做好了!\n",
    "- 原來的網頁：http://www.wech.com.tw/breads/b01/23.html\n",
    "- 顯示從01~65，共有這麼多張圖，全爬下來就是一本書囉~\n",
    "- 我們開始來試試吧\n"
   ]
  },
  {
   "cell_type": "code",
   "execution_count": 14,
   "metadata": {},
   "outputs": [
    {
     "name": "stdout",
     "output_type": "stream",
     "text": [
      "[01]finish to save a image\n",
      "[02]finish to save a image\n",
      "[03]finish to save a image\n",
      "[04]finish to save a image\n",
      "[05]finish to save a image\n",
      "[06]finish to save a image\n",
      "[07]finish to save a image\n",
      "[08]finish to save a image\n",
      "[09]finish to save a image\n",
      "[10]finish to save a image\n",
      "[11]finish to save a image\n",
      "[12]finish to save a image\n",
      "[13]finish to save a image\n",
      "[14]finish to save a image\n",
      "[15]finish to save a image\n",
      "[16]finish to save a image\n",
      "[17]finish to save a image\n",
      "[18]finish to save a image\n",
      "[19]finish to save a image\n",
      "[20]finish to save a image\n",
      "[21]finish to save a image\n",
      "[22]finish to save a image\n",
      "[23]finish to save a image\n",
      "[24]finish to save a image\n",
      "[25]finish to save a image\n",
      "[26]finish to save a image\n",
      "[27]finish to save a image\n",
      "[28]finish to save a image\n",
      "[29]finish to save a image\n",
      "[30]finish to save a image\n",
      "[31]finish to save a image\n",
      "[32]finish to save a image\n",
      "[33]finish to save a image\n",
      "[34]finish to save a image\n",
      "[35]finish to save a image\n",
      "[36]finish to save a image\n",
      "[37]finish to save a image\n",
      "[38]finish to save a image\n",
      "[39]finish to save a image\n",
      "[40]finish to save a image\n",
      "[41]finish to save a image\n",
      "[42]finish to save a image\n",
      "[43]finish to save a image\n",
      "[44]finish to save a image\n",
      "[45]finish to save a image\n",
      "[46]finish to save a image\n",
      "[47]finish to save a image\n",
      "[48]finish to save a image\n",
      "[49]finish to save a image\n",
      "[50]finish to save a image\n",
      "[51]finish to save a image\n",
      "[52]finish to save a image\n",
      "[53]finish to save a image\n",
      "[54]finish to save a image\n",
      "[55]finish to save a image\n",
      "[56]finish to save a image\n",
      "[57]finish to save a image\n",
      "[58]finish to save a image\n",
      "[59]finish to save a image\n",
      "[60]finish to save a image\n",
      "[61]finish to save a image\n",
      "[62]finish to save a image\n",
      "[63]finish to save a image\n",
      "[64]finish to save a image\n",
      "[65]finish to save a image\n"
     ]
    }
   ],
   "source": [
    "import requests\n",
    "import os\n",
    "\n",
    "if(not os.path.exists('./img')):\n",
    "    os.makedirs('./img')\n",
    "\n",
    "url_base = \"http://www.wech.com.tw/breads/910/\"\n",
    "for i in range(1, 66):\n",
    "    url = url_base + '%02d.jpg'%(i)\n",
    "    r = requests.get(url)\n",
    "    if r.status_code == 200:\n",
    "        with open('./img/img_%02d.jpg'%(i), 'wb') as f:\n",
    "            f.write(r.content)\n",
    "        print('[%02d]finish to save a image'%(i))\n",
    "    else:\n",
    "        print('[%02d]bad return code'%(i))\n",
    "    "
   ]
  },
  {
   "cell_type": "code",
   "execution_count": null,
   "metadata": {
    "collapsed": true
   },
   "outputs": [],
   "source": []
  }
 ],
 "metadata": {
  "kernelspec": {
   "display_name": "Python 3",
   "language": "python",
   "name": "python3"
  },
  "language_info": {
   "codemirror_mode": {
    "name": "ipython",
    "version": 3
   },
   "file_extension": ".py",
   "mimetype": "text/x-python",
   "name": "python",
   "nbconvert_exporter": "python",
   "pygments_lexer": "ipython3",
   "version": "3.6.1"
  }
 },
 "nbformat": 4,
 "nbformat_minor": 2
}
